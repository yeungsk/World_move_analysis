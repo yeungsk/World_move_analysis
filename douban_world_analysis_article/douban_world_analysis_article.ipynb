{
 "cells": [
  {
   "cell_type": "markdown",
   "metadata": {},
   "source": [
    "# 豆瓣世界电影分析"
   ]
  },
  {
   "cell_type": "markdown",
   "metadata": {},
   "source": [
    "## 前言"
   ]
  },
  {
   "cell_type": "markdown",
   "metadata": {},
   "source": [
    "我们上一期为大家分析了国产豆瓣电影的数据，可以说豆瓣的影评作为一个比较成熟的评论网站，其数据的覆盖度和公平性还是可以得到保证的，这些数据通过一个侧面反映了国产电影数据的一些发展趋势和特点。随着春节档电影市场的火热，特别是国产首部科幻电影《流浪地球》带来了大量的科技感，体现了国产电影产业又一个新的阶段，但是国产电影是不是已经完全崛起了呢？是不是可以和比如好莱坞这样发达国家的电影产业分庭抗礼了呢？本期我们主要着眼于所有世界范围内的电影数据，继续为大家带来更精彩的世界电影分析。\n",
    "（用于本次分析的数据和相关代码会在稍后公布，更会有爬虫和数据处理以及可视化的相关教程放出，敬请持续关注。）"
   ]
  },
  {
   "cell_type": "markdown",
   "metadata": {},
   "source": [
    "## 总体趋势"
   ]
  },
  {
   "cell_type": "markdown",
   "metadata": {},
   "source": [
    "首先由电影的整体趋势入手，数据通过筛选后，主要呈现1913-2020年的电影数据。由于数据爬取的时间是2018年的9月，所以可以看到2018年的数量有所下降，2019和2020年的数据是已经定档要上映的电影。从整体趋势可以看出，电影数量在这100年呈现逐步增多的趋势，同时也反映出电影行业目前属于一个朝阳产业，正在蓬勃发展。值得注意的是，在80年代之后，电影数量的发展已经逐渐呈现指数增长的趋势，这是由于80年代后的数码技术得到发展，提高了电影制作的技术水平，同时也降低了入行门槛。另一个爆发期是在进入了21世纪之后，每年的电影数量已经是80年代初期的2倍左右，而到了2010年，整个电影的数量呈现了井喷式发展，直到2017年达到了一个顶峰，并且未来还会持续增多。这些趋势和人们生活水平的上升，行业的发展以及技术手段的改进都有关系，比如数码装备在今年已经十分普及，电影的拍摄也不仅仅局限于大制作，很多微电影和小成本的电影对整个数量的提升贡献了很大的力量。"
   ]
  },
  {
   "cell_type": "markdown",
   "metadata": {},
   "source": [
    "![year_trend](img/year_trend.png)"
   ]
  },
  {
   "cell_type": "markdown",
   "metadata": {},
   "source": [
    "## 地区对比"
   ]
  },
  {
   "cell_type": "markdown",
   "metadata": {},
   "source": [
    "那么，这些电影都是由那些国家参与制作的呢？我们进而分析了所有电影中，不同国家参与的情况。从结果可以看出美国还是在电影行业当之无愧的老大，不过毕竟意外（可能也不是很意外）的日本位居第二。而中国大陆的电影已经成为了世界第三大电影生成国。但是进一步可以从这3个国家的发展趋势看出，与美国和日本相比，大陆电影的数量主要集中在2000年以后，这段时间国产电影呈现井喷式增长。虽然其他两个国家的电影也在这时期快速增长，但是并没有国产电影增长的明显。从整体的曲线来看，美国的电影数量一直是处于遥遥领先的地位，其他国家尤其是中国大陆在近几年的发展是十分明显的。"
   ]
  },
  {
   "cell_type": "markdown",
   "metadata": {},
   "source": [
    "![region](img/region.png)"
   ]
  },
  {
   "cell_type": "markdown",
   "metadata": {},
   "source": [
    "![region_trend_](img/region_trend_.png)"
   ]
  },
  {
   "cell_type": "markdown",
   "metadata": {},
   "source": [
    "![region_trend](img/region_trend.png)"
   ]
  },
  {
   "cell_type": "markdown",
   "metadata": {},
   "source": [
    "## 影片类型"
   ]
  },
  {
   "cell_type": "markdown",
   "metadata": {},
   "source": [
    "接下来就是对电影类型的分析，首先从图中可以看出，电影类型最多的还是剧情类。不过令人感到比较意外的是，第二大类型是喜剧片，所以看了人们对于电影的兴趣还是在于娱乐成分更多，而爱情、动作和惊悚等常见类型的电影则依次排在后面。"
   ]
  },
  {
   "cell_type": "markdown",
   "metadata": {},
   "source": [
    "![type](img/type.png)"
   ]
  },
  {
   "cell_type": "markdown",
   "metadata": {},
   "source": [
    "## 上映月份"
   ]
  },
  {
   "cell_type": "markdown",
   "metadata": {},
   "source": [
    "电影上映的月份也反映出一个国家电影市场的一些规律，首先从整体的趋势来看，在九月和10月上映的影片数量比较多，其次是3月和4月，但是这些数据还是要受到一些地区因素影响的。将电影产出排名前10的地区的数据重新整理，可以看到地区的规律基本上还是符合总体的趋势，但是一些小的差别不容忽视。欧美等国家在7，8月份和1，2月份的上映普遍偏低，而对于中国日本这些亚洲国家来说，并没有明显的差别。特别是中国大陆在12月和1月上映的影片反而会更多，这或许是和春节档十分相关。"
   ]
  },
  {
   "cell_type": "markdown",
   "metadata": {},
   "source": [
    "![month](img/month.png)"
   ]
  },
  {
   "cell_type": "markdown",
   "metadata": {},
   "source": [
    "![month_region](img/month_region.png)"
   ]
  },
  {
   "cell_type": "markdown",
   "metadata": {},
   "source": [
    "![month_region_](img/month_region_.png)"
   ]
  },
  {
   "cell_type": "markdown",
   "metadata": {},
   "source": [
    "## 评分"
   ]
  },
  {
   "cell_type": "markdown",
   "metadata": {},
   "source": [
    "接下来分析一下最关键的一点，就是电影的评分。从总体上看，豆瓣的评分比较符合自然规律，呈现一种近似高斯分布的形状，但是在7.0和7.1的评分数量明显偏低，不知道这个规律是不是和人们的心理习惯有关？那么虽然近年来电影产业飞速发展，每年产出点电影数量飞速增长，但是各个国家的电影质量如何？我们继续分析了一下不同国家的评分平均值，对比电影数量排名前10的国家发现，中国大陆的评分是最低的。这个结果从侧面反映了中国的电影数量虽然发展迅速，但是质量还是不高，这说明了中国电影产业存在一定的泡沫，还不成熟，跃进的速度太快，相关的配套没有完善，导致整体的评分偏低。而评分比较高的国家比如日本，英国，法国等，虽然数量上没有那么多，但是质量一直非常不错，而且值得关注的是，日本的电影数量没有美国多但是质量却比美国高一些，不知道是不是和豆瓣的影迷是华人居多，有一定的倾向性导致的。但是不管怎么说，日本的电影产业还是发展的十分成熟的国家。"
   ]
  },
  {
   "cell_type": "markdown",
   "metadata": {},
   "source": [
    "![rate](img/rate.png)"
   ]
  },
  {
   "cell_type": "markdown",
   "metadata": {},
   "source": [
    "![rate_region](img/rate_region.png)"
   ]
  },
  {
   "cell_type": "markdown",
   "metadata": {},
   "source": [
    "## 电影时长"
   ]
  },
  {
   "cell_type": "markdown",
   "metadata": {},
   "source": [
    "电影的时间是十分有趣的话题，人们的注意力一般在2-3小时候后无法集中，因此大部分电影的时间一般控制在2-3小时之间。从整体的统计可以看到，大部分电影是在90-120分钟之间，整体的分布也呈现比较完美的高斯分布趋势。但是从不同国家的平均电影时长就可以比较明显的看出，印度的电影平均时间要明显高于其他国家，平均之间直接打到了130分钟，不知道这是不是印度“宝莱坞”的行业标准。"
   ]
  },
  {
   "cell_type": "markdown",
   "metadata": {},
   "source": [
    "![time](img/time.png)"
   ]
  },
  {
   "cell_type": "markdown",
   "metadata": {},
   "source": [
    "![time_region](img/time_region.png)"
   ]
  },
  {
   "cell_type": "markdown",
   "metadata": {},
   "source": [
    "## 综合分析"
   ]
  },
  {
   "cell_type": "markdown",
   "metadata": {},
   "source": [
    "那么，综合一下上述信息，我对电影数量排名前10的国家进行了一个综合的对比。"
   ]
  },
  {
   "cell_type": "markdown",
   "metadata": {},
   "source": [
    "![rate_time_month_region](img/rate_time_month_region.png)"
   ]
  }
 ],
 "metadata": {
  "hide_input": false,
  "kernelspec": {
   "display_name": "Python 3",
   "language": "python",
   "name": "python3"
  },
  "language_info": {
   "codemirror_mode": {
    "name": "ipython",
    "version": 3
   },
   "file_extension": ".py",
   "mimetype": "text/x-python",
   "name": "python",
   "nbconvert_exporter": "python",
   "pygments_lexer": "ipython3",
   "version": "3.6.7"
  },
  "toc": {
   "nav_menu": {},
   "number_sections": true,
   "sideBar": true,
   "skip_h1_title": false,
   "title_cell": "Table of Contents",
   "title_sidebar": "Contents",
   "toc_cell": false,
   "toc_position": {},
   "toc_section_display": true,
   "toc_window_display": false
  },
  "varInspector": {
   "cols": {
    "lenName": 16,
    "lenType": 16,
    "lenVar": 40
   },
   "kernels_config": {
    "python": {
     "delete_cmd_postfix": "",
     "delete_cmd_prefix": "del ",
     "library": "var_list.py",
     "varRefreshCmd": "print(var_dic_list())"
    },
    "r": {
     "delete_cmd_postfix": ") ",
     "delete_cmd_prefix": "rm(",
     "library": "var_list.r",
     "varRefreshCmd": "cat(var_dic_list()) "
    }
   },
   "types_to_exclude": [
    "module",
    "function",
    "builtin_function_or_method",
    "instance",
    "_Feature"
   ],
   "window_display": false
  }
 },
 "nbformat": 4,
 "nbformat_minor": 2
}
